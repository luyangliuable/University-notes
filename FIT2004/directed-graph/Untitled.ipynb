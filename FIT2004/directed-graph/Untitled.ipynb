{
 "cells": [
  {
   "cell_type": "code",
   "execution_count": 4,
   "id": "bb8adacf",
   "metadata": {
    "scrolled": true
   },
   "outputs": [],
   "source": [
    "class adjacency_matrix:\n",
    "    \"\"\"\n",
    "    This class represents a an graph in the form of adjacency matrix\n",
    "\n",
    "    author: Luyang Liu\n",
    "    Copyright: 2010 Luyang Liu\n",
    "    \"\"\"\n",
    "    def __init__(self, n: int) -> None:\n",
    "        self.vertices = n\n",
    "        self.matrix = []\n",
    "        for i in range(n):\n",
    "            default_weight = None\n",
    "            self.matrix = self.matrix + [[default_weight]*(n)]\n",
    "\n",
    "\n",
    "    def set_weight(self, first_node: int, second_node: int, weight: int) -> None:\n",
    "        if first_node != second_node:\n",
    "            self.matrix[first_node][second_node] = weight\n",
    "\n",
    "\n",
    "    def get_weight(self, first_node: int, second_node: int) -> int:\n",
    "        return self.matrix[first_node][second_node]\n",
    "\n",
    "\n",
    "    def get_vertices(self) -> int:\n",
    "        return self.vertices\n",
    "\n",
    "\n",
    "    def get_matrix(self) -> list:\n",
    "        return self.matrix\n"
   ]
  },
  {
   "cell_type": "code",
   "execution_count": 5,
   "id": "fbcbf016",
   "metadata": {},
   "outputs": [],
   "source": [
    "class adjacency_list:\n",
    "    \"\"\"\n",
    "    This class represents a an graph in the form of adjacency list\n",
    "\n",
    "    author: Luyang Liu\n",
    "    Copyright: 2010 Luyang Liu\n",
    "    \"\"\"\n",
    "    def __init__(self, n: int) -> None:\n",
    "        self.vertices = n\n",
    "        self.matrix = []\n",
    "        for i in range(n):\n",
    "            default_weight = None\n",
    "            self.matrix = self.matrix + [[]]\n",
    "\n",
    "\n",
    "    def set_weight(self, first_node: int, second_node: int, weight: int):\n",
    "        if first_node != second_node:\n",
    "            already_exist = False\n",
    "            for i in range(len(self.matrix[first_node])):\n",
    "                if self.matrix[first_node][i][0] == second_node:\n",
    "                    self.matrix[first_node][i][1] = weight\n",
    "                    already_exist = True\n",
    "                    break\n",
    "            if not already_exist:\n",
    "                self.matrix[first_node] = self.matrix[first_node] + [[second_node, weight]]\n",
    "\n",
    "    def get_weight(self, first_node: int, second_node: int) -> int:\n",
    "        for i in range(len(self.matrix[first_node])):\n",
    "            if self.matrix[first_node][i][0] == second_node:\n",
    "                return self.matrix[first_node][i][1]\n",
    "\n",
    "        return None\n",
    "\n",
    "\n",
    "    def get_vertices(self) -> int:\n",
    "        return self.vertices\n",
    "\n",
    "\n",
    "    def get_matrix(self) -> list:\n",
    "        return self.matrix"
   ]
  }
 ],
 "metadata": {
  "kernelspec": {
   "display_name": "Python 3 (ipykernel)",
   "language": "python",
   "name": "python3"
  },
  "language_info": {
   "codemirror_mode": {
    "name": "ipython",
    "version": 3
   },
   "file_extension": ".py",
   "mimetype": "text/x-python",
   "name": "python",
   "nbconvert_exporter": "python",
   "pygments_lexer": "ipython3",
   "version": "3.8.3"
  }
 },
 "nbformat": 4,
 "nbformat_minor": 5
}
