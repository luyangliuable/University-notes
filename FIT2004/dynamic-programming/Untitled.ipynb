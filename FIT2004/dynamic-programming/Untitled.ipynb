{
 "cells": [
  {
   "cell_type": "code",
   "execution_count": 11,
   "id": "b958dd61",
   "metadata": {},
   "outputs": [],
   "source": [
    "import math"
   ]
  },
  {
   "cell_type": "markdown",
   "id": "520fbe59",
   "metadata": {},
   "source": [
    "# Bottom Up approach "
   ]
  },
  {
   "cell_type": "code",
   "execution_count": 12,
   "id": "0d0e4776",
   "metadata": {},
   "outputs": [],
   "source": [
    "def coin_change(c, V: int):\n",
    "    # min_coins = [( math.inf, [] )]*(V)\n",
    "    min_coins = [(math.inf, []) for i in range(V+1)]\n",
    "\n",
    "    min_coins[0] = (0, [])\n",
    "\n",
    "    for v in range(V+1):\n",
    "        for i in range(len(c)):\n",
    "            if c[i] <= v:\n",
    "                if min_coins[v][0] < 1 + min_coins[v-c[i]][0]:\n",
    "                    pass\n",
    "                else:\n",
    "\n",
    "                    min_coins[v] = (1 + min_coins[v-c[i]][0], min_coins[v-c[i]][1] + [ c[i] ])\n",
    "\n",
    "    # V-1 because 0 is for making coins so V-1 is for V number of coins\n",
    "    return min_coins[V]\n"
   ]
  },
  {
   "cell_type": "code",
   "execution_count": 13,
   "id": "61883f57",
   "metadata": {},
   "outputs": [
    {
     "name": "stdout",
     "output_type": "stream",
     "text": [
      "It takes 3 coins to make 12 amount\n",
      "It requires 4 $1 coins, 4 $2 coins, 4 $3 coins, to make this happen\n"
     ]
    }
   ],
   "source": [
    "coins = [1,2,3,4]\n",
    "v = 12\n",
    "\n",
    "res = coin_change(coins, v)\n",
    "print('It takes', res[0], 'coins to make', v, 'amount')\n",
    "\n",
    "print(\"It requires\", end=\" \")\n",
    "\n",
    "for i in range(len(res[1])):\n",
    "    print(res[1][i], \"$\" + str(coins[i]), \"coins\", end=\", \")\n",
    "\n",
    "print(\"to make this happen\")"
   ]
  },
  {
   "cell_type": "markdown",
   "id": "a505aaef",
   "metadata": {},
   "source": [
    "# Top todown approach"
   ]
  },
  {
   "cell_type": "code",
   "execution_count": 14,
   "id": "6504ab6e",
   "metadata": {},
   "outputs": [],
   "source": [
    "def coin_change(c, v: int) -> tuple:\n",
    "    memo = [( None, [] )]*(v+1)\n",
    "    coins = []\n",
    "    if v == 0:\n",
    "        return [0, []]\n",
    "\n",
    "    if memo[v][0] == None:\n",
    "        min_coins = (math.inf, [])\n",
    "        for i in range(len(c)):\n",
    "            if c[i] <= v:\n",
    "                tmp = coin_change(c, v-c[i])\n",
    "                min_coins = (1 + tmp[0], tmp[1] + [ c[i] ])\n",
    "\n",
    "        memo[v] = min_coins\n",
    "\n",
    "    return memo[v]\n"
   ]
  },
  {
   "cell_type": "code",
   "execution_count": 15,
   "id": "eff288dc",
   "metadata": {},
   "outputs": [
    {
     "name": "stdout",
     "output_type": "stream",
     "text": [
      "It takes (3, [4, 4, 4]) coins to make 12 amount\n"
     ]
    }
   ],
   "source": [
    "coins = [1,2,3,4]\n",
    "v = 12\n",
    "\n",
    "res = coin_change(coins, v)\n",
    "print('It takes', res, 'coins to make', v, 'amount')"
   ]
  }
 ],
 "metadata": {
  "kernelspec": {
   "display_name": "Python 3 (ipykernel)",
   "language": "python",
   "name": "python3"
  },
  "language_info": {
   "codemirror_mode": {
    "name": "ipython",
    "version": 3
   },
   "file_extension": ".py",
   "mimetype": "text/x-python",
   "name": "python",
   "nbconvert_exporter": "python",
   "pygments_lexer": "ipython3",
   "version": "3.8.3"
  }
 },
 "nbformat": 4,
 "nbformat_minor": 5
}
